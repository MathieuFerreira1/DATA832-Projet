{
 "cells": [
  {
   "cell_type": "markdown",
   "source": [
    "# DATA832 - Normalisation"
   ],
   "metadata": {
    "collapsed": false
   }
  },
  {
   "cell_type": "markdown",
   "source": [
    "Data in the new csv :\n",
    "    - age.grouped : categorial\n",
    "    - hours.per.wekk.grouped : categorial"
   ],
   "metadata": {
    "collapsed": false
   }
  },
  {
   "cell_type": "markdown",
   "source": [
    "## Importing Libraries"
   ],
   "metadata": {
    "collapsed": false
   }
  },
  {
   "cell_type": "code",
   "execution_count": 19,
   "metadata": {
    "collapsed": true
   },
   "outputs": [],
   "source": [
    "import pandas as pd\n",
    "import matplotlib.pyplot as plt"
   ]
  },
  {
   "cell_type": "markdown",
   "source": [
    "## Loading Data"
   ],
   "metadata": {
    "collapsed": false
   }
  },
  {
   "cell_type": "code",
   "execution_count": 5,
   "outputs": [],
   "source": [
    "df = pd.read_csv('../info_init/bankable_consumer_train.csv')"
   ],
   "metadata": {
    "collapsed": false
   }
  },
  {
   "cell_type": "markdown",
   "source": [],
   "metadata": {
    "collapsed": false
   }
  },
  {
   "cell_type": "markdown",
   "source": [
    "## Group by age"
   ],
   "metadata": {
    "collapsed": false
   }
  },
  {
   "cell_type": "code",
   "execution_count": 6,
   "outputs": [],
   "source": [
    "# Intervalles d'âge\n",
    "bins = [0, 30, 40, 50, 60, float('inf')]\n",
    "labels = ['Moins de 30 ans', 'De 30 à 39 ans', 'De 40 à 49 ans', 'De 50 à 59 ans', 'Plus de 60 ans']"
   ],
   "metadata": {
    "collapsed": false
   }
  },
  {
   "cell_type": "code",
   "execution_count": 9,
   "outputs": [],
   "source": [
    "# Ajout  d'une nouvelle colonne \"age.grouped\"\n",
    "df['age.grouped'] = pd.cut(df['age'], bins=bins, labels=labels, right=False)"
   ],
   "metadata": {
    "collapsed": false
   }
  },
  {
   "cell_type": "code",
   "execution_count": 10,
   "outputs": [
    {
     "data": {
      "text/plain": "       age  workclass  fnlwgt     education  education.num  \\\n0       82    Private  132870       HS-grad              9   \n1       66          ?  186061  Some-college             10   \n2       54    Private  140359       7th-8th              4   \n3       41    Private  264663  Some-college             10   \n4       74  State-gov   88638     Doctorate             16   \n...    ...        ...     ...           ...            ...   \n19531   32    Private   34066          10th              6   \n19532   22    Private  310152  Some-college             10   \n19533   27    Private  257302    Assoc-acdm             12   \n19534   40    Private  154374       HS-grad              9   \n19535   22    Private  201490       HS-grad              9   \n\n           marital.status         occupation    relationship  \\\n0                 Widowed    Exec-managerial   Not-in-family   \n1                 Widowed                  ?       Unmarried   \n2                Divorced  Machine-op-inspct       Unmarried   \n3               Separated     Prof-specialty       Own-child   \n4           Never-married     Prof-specialty  Other-relative   \n...                   ...                ...             ...   \n19531  Married-civ-spouse  Handlers-cleaners         Husband   \n19532       Never-married    Protective-serv   Not-in-family   \n19533  Married-civ-spouse       Tech-support            Wife   \n19534  Married-civ-spouse  Machine-op-inspct         Husband   \n19535       Never-married       Adm-clerical       Own-child   \n\n                     race     sex  capital.gain  capital.loss  hours.per.week  \\\n0                   White  Female             0          4356              18   \n1                   Black  Female             0          4356              40   \n2                   White  Female             0          3900              40   \n3                   White  Female             0          3900              40   \n4                   White  Female             0          3683              20   \n...                   ...     ...           ...           ...             ...   \n19531  Amer-Indian-Eskimo    Male             0             0              40   \n19532               White    Male             0             0              40   \n19533               White  Female             0             0              38   \n19534               White    Male             0             0              40   \n19535               White    Male             0             0              20   \n\n      native.country bankable      age grouped      age.grouped  \n0      United-States    <=50K   Plus de 60 ans   Plus de 60 ans  \n1      United-States    <=50K   Plus de 60 ans   Plus de 60 ans  \n2      United-States    <=50K   De 50 à 59 ans   De 50 à 59 ans  \n3      United-States    <=50K   De 40 à 49 ans   De 40 à 49 ans  \n4      United-States     >50K   Plus de 60 ans   Plus de 60 ans  \n...              ...      ...              ...              ...  \n19531  United-States    <=50K   De 30 à 39 ans   De 30 à 39 ans  \n19532  United-States    <=50K  Moins de 30 ans  Moins de 30 ans  \n19533  United-States    <=50K  Moins de 30 ans  Moins de 30 ans  \n19534  United-States     >50K   De 40 à 49 ans   De 40 à 49 ans  \n19535  United-States    <=50K  Moins de 30 ans  Moins de 30 ans  \n\n[19536 rows x 17 columns]",
      "text/html": "<div>\n<style scoped>\n    .dataframe tbody tr th:only-of-type {\n        vertical-align: middle;\n    }\n\n    .dataframe tbody tr th {\n        vertical-align: top;\n    }\n\n    .dataframe thead th {\n        text-align: right;\n    }\n</style>\n<table border=\"1\" class=\"dataframe\">\n  <thead>\n    <tr style=\"text-align: right;\">\n      <th></th>\n      <th>age</th>\n      <th>workclass</th>\n      <th>fnlwgt</th>\n      <th>education</th>\n      <th>education.num</th>\n      <th>marital.status</th>\n      <th>occupation</th>\n      <th>relationship</th>\n      <th>race</th>\n      <th>sex</th>\n      <th>capital.gain</th>\n      <th>capital.loss</th>\n      <th>hours.per.week</th>\n      <th>native.country</th>\n      <th>bankable</th>\n      <th>age grouped</th>\n      <th>age.grouped</th>\n    </tr>\n  </thead>\n  <tbody>\n    <tr>\n      <th>0</th>\n      <td>82</td>\n      <td>Private</td>\n      <td>132870</td>\n      <td>HS-grad</td>\n      <td>9</td>\n      <td>Widowed</td>\n      <td>Exec-managerial</td>\n      <td>Not-in-family</td>\n      <td>White</td>\n      <td>Female</td>\n      <td>0</td>\n      <td>4356</td>\n      <td>18</td>\n      <td>United-States</td>\n      <td>&lt;=50K</td>\n      <td>Plus de 60 ans</td>\n      <td>Plus de 60 ans</td>\n    </tr>\n    <tr>\n      <th>1</th>\n      <td>66</td>\n      <td>?</td>\n      <td>186061</td>\n      <td>Some-college</td>\n      <td>10</td>\n      <td>Widowed</td>\n      <td>?</td>\n      <td>Unmarried</td>\n      <td>Black</td>\n      <td>Female</td>\n      <td>0</td>\n      <td>4356</td>\n      <td>40</td>\n      <td>United-States</td>\n      <td>&lt;=50K</td>\n      <td>Plus de 60 ans</td>\n      <td>Plus de 60 ans</td>\n    </tr>\n    <tr>\n      <th>2</th>\n      <td>54</td>\n      <td>Private</td>\n      <td>140359</td>\n      <td>7th-8th</td>\n      <td>4</td>\n      <td>Divorced</td>\n      <td>Machine-op-inspct</td>\n      <td>Unmarried</td>\n      <td>White</td>\n      <td>Female</td>\n      <td>0</td>\n      <td>3900</td>\n      <td>40</td>\n      <td>United-States</td>\n      <td>&lt;=50K</td>\n      <td>De 50 à 59 ans</td>\n      <td>De 50 à 59 ans</td>\n    </tr>\n    <tr>\n      <th>3</th>\n      <td>41</td>\n      <td>Private</td>\n      <td>264663</td>\n      <td>Some-college</td>\n      <td>10</td>\n      <td>Separated</td>\n      <td>Prof-specialty</td>\n      <td>Own-child</td>\n      <td>White</td>\n      <td>Female</td>\n      <td>0</td>\n      <td>3900</td>\n      <td>40</td>\n      <td>United-States</td>\n      <td>&lt;=50K</td>\n      <td>De 40 à 49 ans</td>\n      <td>De 40 à 49 ans</td>\n    </tr>\n    <tr>\n      <th>4</th>\n      <td>74</td>\n      <td>State-gov</td>\n      <td>88638</td>\n      <td>Doctorate</td>\n      <td>16</td>\n      <td>Never-married</td>\n      <td>Prof-specialty</td>\n      <td>Other-relative</td>\n      <td>White</td>\n      <td>Female</td>\n      <td>0</td>\n      <td>3683</td>\n      <td>20</td>\n      <td>United-States</td>\n      <td>&gt;50K</td>\n      <td>Plus de 60 ans</td>\n      <td>Plus de 60 ans</td>\n    </tr>\n    <tr>\n      <th>...</th>\n      <td>...</td>\n      <td>...</td>\n      <td>...</td>\n      <td>...</td>\n      <td>...</td>\n      <td>...</td>\n      <td>...</td>\n      <td>...</td>\n      <td>...</td>\n      <td>...</td>\n      <td>...</td>\n      <td>...</td>\n      <td>...</td>\n      <td>...</td>\n      <td>...</td>\n      <td>...</td>\n      <td>...</td>\n    </tr>\n    <tr>\n      <th>19531</th>\n      <td>32</td>\n      <td>Private</td>\n      <td>34066</td>\n      <td>10th</td>\n      <td>6</td>\n      <td>Married-civ-spouse</td>\n      <td>Handlers-cleaners</td>\n      <td>Husband</td>\n      <td>Amer-Indian-Eskimo</td>\n      <td>Male</td>\n      <td>0</td>\n      <td>0</td>\n      <td>40</td>\n      <td>United-States</td>\n      <td>&lt;=50K</td>\n      <td>De 30 à 39 ans</td>\n      <td>De 30 à 39 ans</td>\n    </tr>\n    <tr>\n      <th>19532</th>\n      <td>22</td>\n      <td>Private</td>\n      <td>310152</td>\n      <td>Some-college</td>\n      <td>10</td>\n      <td>Never-married</td>\n      <td>Protective-serv</td>\n      <td>Not-in-family</td>\n      <td>White</td>\n      <td>Male</td>\n      <td>0</td>\n      <td>0</td>\n      <td>40</td>\n      <td>United-States</td>\n      <td>&lt;=50K</td>\n      <td>Moins de 30 ans</td>\n      <td>Moins de 30 ans</td>\n    </tr>\n    <tr>\n      <th>19533</th>\n      <td>27</td>\n      <td>Private</td>\n      <td>257302</td>\n      <td>Assoc-acdm</td>\n      <td>12</td>\n      <td>Married-civ-spouse</td>\n      <td>Tech-support</td>\n      <td>Wife</td>\n      <td>White</td>\n      <td>Female</td>\n      <td>0</td>\n      <td>0</td>\n      <td>38</td>\n      <td>United-States</td>\n      <td>&lt;=50K</td>\n      <td>Moins de 30 ans</td>\n      <td>Moins de 30 ans</td>\n    </tr>\n    <tr>\n      <th>19534</th>\n      <td>40</td>\n      <td>Private</td>\n      <td>154374</td>\n      <td>HS-grad</td>\n      <td>9</td>\n      <td>Married-civ-spouse</td>\n      <td>Machine-op-inspct</td>\n      <td>Husband</td>\n      <td>White</td>\n      <td>Male</td>\n      <td>0</td>\n      <td>0</td>\n      <td>40</td>\n      <td>United-States</td>\n      <td>&gt;50K</td>\n      <td>De 40 à 49 ans</td>\n      <td>De 40 à 49 ans</td>\n    </tr>\n    <tr>\n      <th>19535</th>\n      <td>22</td>\n      <td>Private</td>\n      <td>201490</td>\n      <td>HS-grad</td>\n      <td>9</td>\n      <td>Never-married</td>\n      <td>Adm-clerical</td>\n      <td>Own-child</td>\n      <td>White</td>\n      <td>Male</td>\n      <td>0</td>\n      <td>0</td>\n      <td>20</td>\n      <td>United-States</td>\n      <td>&lt;=50K</td>\n      <td>Moins de 30 ans</td>\n      <td>Moins de 30 ans</td>\n    </tr>\n  </tbody>\n</table>\n<p>19536 rows × 17 columns</p>\n</div>"
     },
     "execution_count": 10,
     "metadata": {},
     "output_type": "execute_result"
    }
   ],
   "source": [
    "df"
   ],
   "metadata": {
    "collapsed": false
   }
  },
  {
   "cell_type": "markdown",
   "source": [
    "## Group by Hours per Weeks"
   ],
   "metadata": {
    "collapsed": false
   }
  },
  {
   "cell_type": "code",
   "execution_count": 11,
   "outputs": [],
   "source": [
    "# Intervalles de hours per week\n",
    "    # les bornes supérieurs sont exclues\n",
    "\n",
    "bins = [0, 24, 35, 45, 55, float('inf')]\n",
    "labels = ['Moins de 24h', 'De 24 à 35h', 'De 35 à 45h', 'De 45 à 55h', 'Plus de 55h']"
   ],
   "metadata": {
    "collapsed": false
   }
  },
  {
   "cell_type": "code",
   "execution_count": 12,
   "outputs": [],
   "source": [
    "# Ajout d'nouvelle colonne \"Groupe d'âge\"\n",
    "df['hours.per.week.grouped'] = pd.cut(df['hours.per.week'], bins=bins, labels=labels, right=False)"
   ],
   "metadata": {
    "collapsed": false
   }
  },
  {
   "cell_type": "code",
   "execution_count": 18,
   "outputs": [
    {
     "data": {
      "text/plain": "       age  workclass  fnlwgt     education  education.num  \\\n0       82    Private  132870       HS-grad              9   \n1       66          ?  186061  Some-college             10   \n2       54    Private  140359       7th-8th              4   \n3       41    Private  264663  Some-college             10   \n4       74  State-gov   88638     Doctorate             16   \n...    ...        ...     ...           ...            ...   \n19531   32    Private   34066          10th              6   \n19532   22    Private  310152  Some-college             10   \n19533   27    Private  257302    Assoc-acdm             12   \n19534   40    Private  154374       HS-grad              9   \n19535   22    Private  201490       HS-grad              9   \n\n           marital.status         occupation    relationship  \\\n0                 Widowed    Exec-managerial   Not-in-family   \n1                 Widowed                  ?       Unmarried   \n2                Divorced  Machine-op-inspct       Unmarried   \n3               Separated     Prof-specialty       Own-child   \n4           Never-married     Prof-specialty  Other-relative   \n...                   ...                ...             ...   \n19531  Married-civ-spouse  Handlers-cleaners         Husband   \n19532       Never-married    Protective-serv   Not-in-family   \n19533  Married-civ-spouse       Tech-support            Wife   \n19534  Married-civ-spouse  Machine-op-inspct         Husband   \n19535       Never-married       Adm-clerical       Own-child   \n\n                     race     sex  capital.gain  capital.loss  hours.per.week  \\\n0                   White  Female             0          4356              18   \n1                   Black  Female             0          4356              40   \n2                   White  Female             0          3900              40   \n3                   White  Female             0          3900              40   \n4                   White  Female             0          3683              20   \n...                   ...     ...           ...           ...             ...   \n19531  Amer-Indian-Eskimo    Male             0             0              40   \n19532               White    Male             0             0              40   \n19533               White  Female             0             0              38   \n19534               White    Male             0             0              40   \n19535               White    Male             0             0              20   \n\n      native.country bankable      age grouped      age.grouped  \\\n0      United-States    <=50K   Plus de 60 ans   Plus de 60 ans   \n1      United-States    <=50K   Plus de 60 ans   Plus de 60 ans   \n2      United-States    <=50K   De 50 à 59 ans   De 50 à 59 ans   \n3      United-States    <=50K   De 40 à 49 ans   De 40 à 49 ans   \n4      United-States     >50K   Plus de 60 ans   Plus de 60 ans   \n...              ...      ...              ...              ...   \n19531  United-States    <=50K   De 30 à 39 ans   De 30 à 39 ans   \n19532  United-States    <=50K  Moins de 30 ans  Moins de 30 ans   \n19533  United-States    <=50K  Moins de 30 ans  Moins de 30 ans   \n19534  United-States     >50K   De 40 à 49 ans   De 40 à 49 ans   \n19535  United-States    <=50K  Moins de 30 ans  Moins de 30 ans   \n\n      hours.per.week.grouped   education.concat  \n0               Moins de 24h        HS-grad - 9  \n1                De 35 à 45h  Some-college - 10  \n2                De 35 à 45h        7th-8th - 4  \n3                De 35 à 45h  Some-college - 10  \n4               Moins de 24h     Doctorate - 16  \n...                      ...                ...  \n19531            De 35 à 45h           10th - 6  \n19532            De 35 à 45h  Some-college - 10  \n19533            De 35 à 45h    Assoc-acdm - 12  \n19534            De 35 à 45h        HS-grad - 9  \n19535           Moins de 24h        HS-grad - 9  \n\n[19536 rows x 19 columns]",
      "text/html": "<div>\n<style scoped>\n    .dataframe tbody tr th:only-of-type {\n        vertical-align: middle;\n    }\n\n    .dataframe tbody tr th {\n        vertical-align: top;\n    }\n\n    .dataframe thead th {\n        text-align: right;\n    }\n</style>\n<table border=\"1\" class=\"dataframe\">\n  <thead>\n    <tr style=\"text-align: right;\">\n      <th></th>\n      <th>age</th>\n      <th>workclass</th>\n      <th>fnlwgt</th>\n      <th>education</th>\n      <th>education.num</th>\n      <th>marital.status</th>\n      <th>occupation</th>\n      <th>relationship</th>\n      <th>race</th>\n      <th>sex</th>\n      <th>capital.gain</th>\n      <th>capital.loss</th>\n      <th>hours.per.week</th>\n      <th>native.country</th>\n      <th>bankable</th>\n      <th>age grouped</th>\n      <th>age.grouped</th>\n      <th>hours.per.week.grouped</th>\n      <th>education.concat</th>\n    </tr>\n  </thead>\n  <tbody>\n    <tr>\n      <th>0</th>\n      <td>82</td>\n      <td>Private</td>\n      <td>132870</td>\n      <td>HS-grad</td>\n      <td>9</td>\n      <td>Widowed</td>\n      <td>Exec-managerial</td>\n      <td>Not-in-family</td>\n      <td>White</td>\n      <td>Female</td>\n      <td>0</td>\n      <td>4356</td>\n      <td>18</td>\n      <td>United-States</td>\n      <td>&lt;=50K</td>\n      <td>Plus de 60 ans</td>\n      <td>Plus de 60 ans</td>\n      <td>Moins de 24h</td>\n      <td>HS-grad - 9</td>\n    </tr>\n    <tr>\n      <th>1</th>\n      <td>66</td>\n      <td>?</td>\n      <td>186061</td>\n      <td>Some-college</td>\n      <td>10</td>\n      <td>Widowed</td>\n      <td>?</td>\n      <td>Unmarried</td>\n      <td>Black</td>\n      <td>Female</td>\n      <td>0</td>\n      <td>4356</td>\n      <td>40</td>\n      <td>United-States</td>\n      <td>&lt;=50K</td>\n      <td>Plus de 60 ans</td>\n      <td>Plus de 60 ans</td>\n      <td>De 35 à 45h</td>\n      <td>Some-college - 10</td>\n    </tr>\n    <tr>\n      <th>2</th>\n      <td>54</td>\n      <td>Private</td>\n      <td>140359</td>\n      <td>7th-8th</td>\n      <td>4</td>\n      <td>Divorced</td>\n      <td>Machine-op-inspct</td>\n      <td>Unmarried</td>\n      <td>White</td>\n      <td>Female</td>\n      <td>0</td>\n      <td>3900</td>\n      <td>40</td>\n      <td>United-States</td>\n      <td>&lt;=50K</td>\n      <td>De 50 à 59 ans</td>\n      <td>De 50 à 59 ans</td>\n      <td>De 35 à 45h</td>\n      <td>7th-8th - 4</td>\n    </tr>\n    <tr>\n      <th>3</th>\n      <td>41</td>\n      <td>Private</td>\n      <td>264663</td>\n      <td>Some-college</td>\n      <td>10</td>\n      <td>Separated</td>\n      <td>Prof-specialty</td>\n      <td>Own-child</td>\n      <td>White</td>\n      <td>Female</td>\n      <td>0</td>\n      <td>3900</td>\n      <td>40</td>\n      <td>United-States</td>\n      <td>&lt;=50K</td>\n      <td>De 40 à 49 ans</td>\n      <td>De 40 à 49 ans</td>\n      <td>De 35 à 45h</td>\n      <td>Some-college - 10</td>\n    </tr>\n    <tr>\n      <th>4</th>\n      <td>74</td>\n      <td>State-gov</td>\n      <td>88638</td>\n      <td>Doctorate</td>\n      <td>16</td>\n      <td>Never-married</td>\n      <td>Prof-specialty</td>\n      <td>Other-relative</td>\n      <td>White</td>\n      <td>Female</td>\n      <td>0</td>\n      <td>3683</td>\n      <td>20</td>\n      <td>United-States</td>\n      <td>&gt;50K</td>\n      <td>Plus de 60 ans</td>\n      <td>Plus de 60 ans</td>\n      <td>Moins de 24h</td>\n      <td>Doctorate - 16</td>\n    </tr>\n    <tr>\n      <th>...</th>\n      <td>...</td>\n      <td>...</td>\n      <td>...</td>\n      <td>...</td>\n      <td>...</td>\n      <td>...</td>\n      <td>...</td>\n      <td>...</td>\n      <td>...</td>\n      <td>...</td>\n      <td>...</td>\n      <td>...</td>\n      <td>...</td>\n      <td>...</td>\n      <td>...</td>\n      <td>...</td>\n      <td>...</td>\n      <td>...</td>\n      <td>...</td>\n    </tr>\n    <tr>\n      <th>19531</th>\n      <td>32</td>\n      <td>Private</td>\n      <td>34066</td>\n      <td>10th</td>\n      <td>6</td>\n      <td>Married-civ-spouse</td>\n      <td>Handlers-cleaners</td>\n      <td>Husband</td>\n      <td>Amer-Indian-Eskimo</td>\n      <td>Male</td>\n      <td>0</td>\n      <td>0</td>\n      <td>40</td>\n      <td>United-States</td>\n      <td>&lt;=50K</td>\n      <td>De 30 à 39 ans</td>\n      <td>De 30 à 39 ans</td>\n      <td>De 35 à 45h</td>\n      <td>10th - 6</td>\n    </tr>\n    <tr>\n      <th>19532</th>\n      <td>22</td>\n      <td>Private</td>\n      <td>310152</td>\n      <td>Some-college</td>\n      <td>10</td>\n      <td>Never-married</td>\n      <td>Protective-serv</td>\n      <td>Not-in-family</td>\n      <td>White</td>\n      <td>Male</td>\n      <td>0</td>\n      <td>0</td>\n      <td>40</td>\n      <td>United-States</td>\n      <td>&lt;=50K</td>\n      <td>Moins de 30 ans</td>\n      <td>Moins de 30 ans</td>\n      <td>De 35 à 45h</td>\n      <td>Some-college - 10</td>\n    </tr>\n    <tr>\n      <th>19533</th>\n      <td>27</td>\n      <td>Private</td>\n      <td>257302</td>\n      <td>Assoc-acdm</td>\n      <td>12</td>\n      <td>Married-civ-spouse</td>\n      <td>Tech-support</td>\n      <td>Wife</td>\n      <td>White</td>\n      <td>Female</td>\n      <td>0</td>\n      <td>0</td>\n      <td>38</td>\n      <td>United-States</td>\n      <td>&lt;=50K</td>\n      <td>Moins de 30 ans</td>\n      <td>Moins de 30 ans</td>\n      <td>De 35 à 45h</td>\n      <td>Assoc-acdm - 12</td>\n    </tr>\n    <tr>\n      <th>19534</th>\n      <td>40</td>\n      <td>Private</td>\n      <td>154374</td>\n      <td>HS-grad</td>\n      <td>9</td>\n      <td>Married-civ-spouse</td>\n      <td>Machine-op-inspct</td>\n      <td>Husband</td>\n      <td>White</td>\n      <td>Male</td>\n      <td>0</td>\n      <td>0</td>\n      <td>40</td>\n      <td>United-States</td>\n      <td>&gt;50K</td>\n      <td>De 40 à 49 ans</td>\n      <td>De 40 à 49 ans</td>\n      <td>De 35 à 45h</td>\n      <td>HS-grad - 9</td>\n    </tr>\n    <tr>\n      <th>19535</th>\n      <td>22</td>\n      <td>Private</td>\n      <td>201490</td>\n      <td>HS-grad</td>\n      <td>9</td>\n      <td>Never-married</td>\n      <td>Adm-clerical</td>\n      <td>Own-child</td>\n      <td>White</td>\n      <td>Male</td>\n      <td>0</td>\n      <td>0</td>\n      <td>20</td>\n      <td>United-States</td>\n      <td>&lt;=50K</td>\n      <td>Moins de 30 ans</td>\n      <td>Moins de 30 ans</td>\n      <td>Moins de 24h</td>\n      <td>HS-grad - 9</td>\n    </tr>\n  </tbody>\n</table>\n<p>19536 rows × 19 columns</p>\n</div>"
     },
     "execution_count": 18,
     "metadata": {},
     "output_type": "execute_result"
    }
   ],
   "source": [
    "df"
   ],
   "metadata": {
    "collapsed": false
   }
  },
  {
   "cell_type": "markdown",
   "source": [
    "## Check Education num unique Education label"
   ],
   "metadata": {
    "collapsed": false
   }
  },
  {
   "cell_type": "code",
   "execution_count": 14,
   "outputs": [],
   "source": [
    "# Vérifier si pour un même éducation numéro, les éducations sont les mêmes\n",
    "education_check = df.groupby('education.num')['education'].nunique()"
   ],
   "metadata": {
    "collapsed": false
   }
  },
  {
   "cell_type": "code",
   "execution_count": 15,
   "outputs": [
    {
     "name": "stdout",
     "output_type": "stream",
     "text": [
      "Series([], Name: education, dtype: int64)\n"
     ]
    }
   ],
   "source": [
    "# Afficher les éducation numéros pour lesquels il y a plus d'une éducation différente\n",
    "print(education_check[education_check > 1])"
   ],
   "metadata": {
    "collapsed": false
   }
  },
  {
   "cell_type": "code",
   "execution_count": 17,
   "outputs": [
    {
     "name": "stdout",
     "output_type": "stream",
     "text": [
      "HS-grad - 9\n",
      "Some-college - 10\n",
      "7th-8th - 4\n",
      "Doctorate - 16\n",
      "Prof-school - 15\n",
      "Masters - 14\n",
      "11th - 7\n",
      "Bachelors - 13\n",
      "Assoc-voc - 11\n",
      "1st-4th - 2\n",
      "5th-6th - 3\n",
      "10th - 6\n",
      "Assoc-acdm - 12\n",
      "12th - 8\n",
      "9th - 5\n",
      "Preschool - 1\n"
     ]
    }
   ],
   "source": [
    "# Concaténer les colonnes \"education\" et \"education num\" pour chaque ligne\n",
    "df['education.concat'] = df['education'] + ' - ' + df['education.num'].astype(str)\n",
    "\n",
    "# Afficher les valeurs uniques résultantes\n",
    "valeurs_uniques_concatenées = df['education.concat'].unique()\n",
    "# print(valeurs_uniques_concatenées)\n",
    "\n",
    "for value in valeurs_uniques_concatenées:\n",
    "    print(value)"
   ],
   "metadata": {
    "collapsed": false
   }
  },
  {
   "cell_type": "markdown",
   "source": [
    "## Group Capital Gain"
   ],
   "metadata": {
    "collapsed": false
   }
  },
  {
   "cell_type": "markdown",
   "source": [
    "### Visualise the repartition"
   ],
   "metadata": {
    "collapsed": false
   }
  },
  {
   "cell_type": "code",
   "execution_count": 27,
   "outputs": [
    {
     "data": {
      "text/plain": "<Figure size 640x480 with 1 Axes>",
      "image/png": "[encoded data removed]"
     },
     "metadata": {},
     "output_type": "display_data"
    }
   ],
   "source": [
    "# Tracer un histogramme pour visualiser la distribution de capital.loss\n",
    "plt.hist(df['capital.loss'], bins=20, color='skyblue', edgecolor='black')\n",
    "plt.xlabel('Capital Loss')\n",
    "plt.ylabel('Nombre de personnes')\n",
    "plt.title('Répartition des pertes en capital')\n",
    "plt.show()"
   ],
   "metadata": {
    "collapsed": false
   }
  },
  {
   "cell_type": "markdown",
   "source": [
    "## Check Capital Gain"
   ],
   "metadata": {
    "collapsed": false
   }
  },
  {
   "cell_type": "markdown",
   "source": [
    "Only 110 unique value in capital gain, so we don't need to make group for."
   ],
   "metadata": {
    "collapsed": false
   }
  },
  {
   "cell_type": "code",
   "execution_count": 33,
   "outputs": [
    {
     "data": {
      "text/plain": "array([    0, 99999, 41310, 34095, 27828, 25236, 25124, 22040, 20051,\n       18481, 15831, 15024, 15020, 14344, 14084, 13550, 11678, 10605,\n       10566, 10520,  9562,  9386,  8614,  7896,  7688,  7443,  7430,\n        7298,  6849,  6767,  6723,  6514,  6497,  6418,  6360,  5721,\n        5556,  5455,  5178,  5013,  4934,  4865,  4787,  4687,  4650,\n        4508,  4416,  4386,  4101,  4064,  3942,  3908,  3887,  3818,\n        3781,  3674,  3471,  3464,  3432,  3418,  3411,  3325,  3273,\n        3137,  3103,  2993,  2977,  2964,  2961,  2936,  2907,  2885,\n        2829,  2653,  2635,  2597,  2580,  2538,  2463,  2414,  2407,\n        2387,  2354,  2346,  2329,  2290,  2228,  2202,  2176,  2174,\n        2105,  2050,  2036,  2009,  1848,  1831,  1797,  1639,  1506,\n        1471,  1455,  1424,  1409,  1173,  1151,  1111,  1055,   991,\n         914,   594,   114])"
     },
     "execution_count": 33,
     "metadata": {},
     "output_type": "execute_result"
    }
   ],
   "source": [
    "df['capital.gain'].unique()"
   ],
   "metadata": {
    "collapsed": false
   }
  },
  {
   "cell_type": "markdown",
   "source": [
    "## Check Capital Loss"
   ],
   "metadata": {
    "collapsed": false
   }
  },
  {
   "cell_type": "markdown",
   "source": [
    "Only 84 unique value in capital loss, so we don't need to make group for."
   ],
   "metadata": {
    "collapsed": false
   }
  },
  {
   "cell_type": "code",
   "execution_count": 35,
   "outputs": [
    {
     "data": {
      "text/plain": "array([4356, 3900, 3683, 3004, 2824, 2754, 2603, 2559, 2547, 2489, 2472,\n       2467, 2457, 2444, 2415, 2392, 2377, 2352, 2339, 2282, 2267, 2258,\n       2246, 2231, 2206, 2205, 2201, 2179, 2174, 2149, 2129, 2057, 2051,\n       2042, 2002, 2001, 1980, 1977, 1974, 1944, 1902, 1887, 1876, 1848,\n       1844, 1825, 1816, 1762, 1741, 1740, 1726, 1721, 1719, 1672, 1669,\n       1668, 1651, 1648, 1628, 1617, 1602, 1594, 1590, 1579, 1573, 1564,\n       1504, 1485, 1411, 1408, 1380, 1340, 1258, 1138, 1092,  974,  880,\n        810,  653,  625,  419,  323,  213,  155,    0])"
     },
     "execution_count": 35,
     "metadata": {},
     "output_type": "execute_result"
    }
   ],
   "source": [
    "df['capital.loss'].unique()"
   ],
   "metadata": {
    "collapsed": false
   }
  },
  {
   "cell_type": "markdown",
   "source": [
    "## Write in a new csv"
   ],
   "metadata": {
    "collapsed": false
   }
  },
  {
   "cell_type": "code",
   "execution_count": 38,
   "outputs": [],
   "source": [
    "df.to_csv(\"../new_data/bankable_consumer_train_normalized.csv\", index=False)"
   ],
   "metadata": {
    "collapsed": false
   }
  },
  {
   "cell_type": "code",
   "execution_count": null,
   "outputs": [],
   "source": [],
   "metadata": {
    "collapsed": false
   }
  }
 ],
 "metadata": {
  "kernelspec": {
   "display_name": "Python 3",
   "language": "python",
   "name": "python3"
  },
  "language_info": {
   "codemirror_mode": {
    "name": "ipython",
    "version": 2
   },
   "file_extension": ".py",
   "mimetype": "text/x-python",
   "name": "python",
   "nbconvert_exporter": "python",
   "pygments_lexer": "ipython2",
   "version": "2.7.6"
  }
 },
 "nbformat": 4,
 "nbformat_minor": 0
}
